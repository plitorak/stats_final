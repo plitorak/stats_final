{
 "cells": [
  {
   "cell_type": "code",
   "id": "initial_id",
   "metadata": {
    "collapsed": true,
    "ExecuteTime": {
     "end_time": "2025-03-16T06:04:34.858363Z",
     "start_time": "2025-03-16T06:04:34.851869Z"
    }
   },
   "source": [
    "import pandas as pd\n",
    "import scipy.stats as sts\n",
    "import matplotlib.pyplot as plt"
   ],
   "outputs": [],
   "execution_count": 20
  },
  {
   "metadata": {
    "ExecuteTime": {
     "end_time": "2025-03-16T05:53:37.634339Z",
     "start_time": "2025-03-16T05:53:37.626985Z"
    }
   },
   "cell_type": "code",
   "source": "df = pd.read_table('df.csv')",
   "id": "a09ea73a2157926d",
   "outputs": [],
   "execution_count": 14
  },
  {
   "metadata": {
    "ExecuteTime": {
     "end_time": "2025-03-16T05:53:38.668986Z",
     "start_time": "2025-03-16T05:53:38.646213Z"
    }
   },
   "cell_type": "code",
   "source": "df.describe()",
   "id": "c555e03a61803364",
   "outputs": [
    {
     "data": {
      "text/plain": [
       "       Glucose_Before  Glucose_After  Insulin_Before  Insulin_After\n",
       "count       40.000000      40.000000       40.000000      40.000000\n",
       "mean         9.685883       8.511982        8.665930      10.168415\n",
       "std          1.683078       1.862413        2.027438       2.675175\n",
       "min          5.859981       3.406429        4.544661       6.156825\n",
       "25%          8.526653       7.282921        7.055487       8.061644\n",
       "50%          9.258638       8.529556        8.712898       9.561984\n",
       "75%         11.085242       9.932888       10.002762      11.765272\n",
       "max         12.808895      11.894115       12.784731      15.830221"
      ],
      "text/html": [
       "<div>\n",
       "<style scoped>\n",
       "    .dataframe tbody tr th:only-of-type {\n",
       "        vertical-align: middle;\n",
       "    }\n",
       "\n",
       "    .dataframe tbody tr th {\n",
       "        vertical-align: top;\n",
       "    }\n",
       "\n",
       "    .dataframe thead th {\n",
       "        text-align: right;\n",
       "    }\n",
       "</style>\n",
       "<table border=\"1\" class=\"dataframe\">\n",
       "  <thead>\n",
       "    <tr style=\"text-align: right;\">\n",
       "      <th></th>\n",
       "      <th>Glucose_Before</th>\n",
       "      <th>Glucose_After</th>\n",
       "      <th>Insulin_Before</th>\n",
       "      <th>Insulin_After</th>\n",
       "    </tr>\n",
       "  </thead>\n",
       "  <tbody>\n",
       "    <tr>\n",
       "      <th>count</th>\n",
       "      <td>40.000000</td>\n",
       "      <td>40.000000</td>\n",
       "      <td>40.000000</td>\n",
       "      <td>40.000000</td>\n",
       "    </tr>\n",
       "    <tr>\n",
       "      <th>mean</th>\n",
       "      <td>9.685883</td>\n",
       "      <td>8.511982</td>\n",
       "      <td>8.665930</td>\n",
       "      <td>10.168415</td>\n",
       "    </tr>\n",
       "    <tr>\n",
       "      <th>std</th>\n",
       "      <td>1.683078</td>\n",
       "      <td>1.862413</td>\n",
       "      <td>2.027438</td>\n",
       "      <td>2.675175</td>\n",
       "    </tr>\n",
       "    <tr>\n",
       "      <th>min</th>\n",
       "      <td>5.859981</td>\n",
       "      <td>3.406429</td>\n",
       "      <td>4.544661</td>\n",
       "      <td>6.156825</td>\n",
       "    </tr>\n",
       "    <tr>\n",
       "      <th>25%</th>\n",
       "      <td>8.526653</td>\n",
       "      <td>7.282921</td>\n",
       "      <td>7.055487</td>\n",
       "      <td>8.061644</td>\n",
       "    </tr>\n",
       "    <tr>\n",
       "      <th>50%</th>\n",
       "      <td>9.258638</td>\n",
       "      <td>8.529556</td>\n",
       "      <td>8.712898</td>\n",
       "      <td>9.561984</td>\n",
       "    </tr>\n",
       "    <tr>\n",
       "      <th>75%</th>\n",
       "      <td>11.085242</td>\n",
       "      <td>9.932888</td>\n",
       "      <td>10.002762</td>\n",
       "      <td>11.765272</td>\n",
       "    </tr>\n",
       "    <tr>\n",
       "      <th>max</th>\n",
       "      <td>12.808895</td>\n",
       "      <td>11.894115</td>\n",
       "      <td>12.784731</td>\n",
       "      <td>15.830221</td>\n",
       "    </tr>\n",
       "  </tbody>\n",
       "</table>\n",
       "</div>"
      ]
     },
     "execution_count": 15,
     "metadata": {},
     "output_type": "execute_result"
    }
   ],
   "execution_count": 15
  },
  {
   "metadata": {
    "ExecuteTime": {
     "end_time": "2025-03-16T05:53:41.252531Z",
     "start_time": "2025-03-16T05:53:41.231438Z"
    }
   },
   "cell_type": "code",
   "source": "df.head()",
   "id": "9fdf596075f5d9c7",
   "outputs": [
    {
     "data": {
      "text/plain": [
       "  Group  Glucose_Before  Glucose_After  Insulin_Before  Insulin_After\n",
       "0     A        7.871554       5.502870        6.389267       8.616558\n",
       "1     A       10.996018       8.250652        4.544661       8.339524\n",
       "2     A        9.924468       8.392385        7.218200      10.532472\n",
       "3     A        7.240558       4.652643        9.147612      10.821346\n",
       "4     A        8.632100       7.259040        8.677178      13.094477"
      ],
      "text/html": [
       "<div>\n",
       "<style scoped>\n",
       "    .dataframe tbody tr th:only-of-type {\n",
       "        vertical-align: middle;\n",
       "    }\n",
       "\n",
       "    .dataframe tbody tr th {\n",
       "        vertical-align: top;\n",
       "    }\n",
       "\n",
       "    .dataframe thead th {\n",
       "        text-align: right;\n",
       "    }\n",
       "</style>\n",
       "<table border=\"1\" class=\"dataframe\">\n",
       "  <thead>\n",
       "    <tr style=\"text-align: right;\">\n",
       "      <th></th>\n",
       "      <th>Group</th>\n",
       "      <th>Glucose_Before</th>\n",
       "      <th>Glucose_After</th>\n",
       "      <th>Insulin_Before</th>\n",
       "      <th>Insulin_After</th>\n",
       "    </tr>\n",
       "  </thead>\n",
       "  <tbody>\n",
       "    <tr>\n",
       "      <th>0</th>\n",
       "      <td>A</td>\n",
       "      <td>7.871554</td>\n",
       "      <td>5.502870</td>\n",
       "      <td>6.389267</td>\n",
       "      <td>8.616558</td>\n",
       "    </tr>\n",
       "    <tr>\n",
       "      <th>1</th>\n",
       "      <td>A</td>\n",
       "      <td>10.996018</td>\n",
       "      <td>8.250652</td>\n",
       "      <td>4.544661</td>\n",
       "      <td>8.339524</td>\n",
       "    </tr>\n",
       "    <tr>\n",
       "      <th>2</th>\n",
       "      <td>A</td>\n",
       "      <td>9.924468</td>\n",
       "      <td>8.392385</td>\n",
       "      <td>7.218200</td>\n",
       "      <td>10.532472</td>\n",
       "    </tr>\n",
       "    <tr>\n",
       "      <th>3</th>\n",
       "      <td>A</td>\n",
       "      <td>7.240558</td>\n",
       "      <td>4.652643</td>\n",
       "      <td>9.147612</td>\n",
       "      <td>10.821346</td>\n",
       "    </tr>\n",
       "    <tr>\n",
       "      <th>4</th>\n",
       "      <td>A</td>\n",
       "      <td>8.632100</td>\n",
       "      <td>7.259040</td>\n",
       "      <td>8.677178</td>\n",
       "      <td>13.094477</td>\n",
       "    </tr>\n",
       "  </tbody>\n",
       "</table>\n",
       "</div>"
      ]
     },
     "execution_count": 16,
     "metadata": {},
     "output_type": "execute_result"
    }
   ],
   "execution_count": 16
  },
  {
   "metadata": {},
   "cell_type": "markdown",
   "source": [
    "Нормальность распределения уровня глюкозы после лечения в обеих группах проверяем при помощи критерия Шапиро-Уилка, т.к. он хорошо работает на выборке менее 50.\n",
    "#### __Нулевая гипотеза для проверки нормальности распределения уровня глюкозы после лечения в группе A:__\n",
    "Уровень глюкозы в группе A подчиняется нормальному распределению."
   ],
   "id": "50487e314409d482"
  },
  {
   "metadata": {
    "ExecuteTime": {
     "end_time": "2025-03-16T07:15:36.377898Z",
     "start_time": "2025-03-16T07:15:36.370174Z"
    }
   },
   "cell_type": "code",
   "source": [
    "values_a = df[df['Group'] == 'A']\n",
    "values_b = df[df['Group'] == 'B']"
   ],
   "id": "661893d05111d95d",
   "outputs": [],
   "execution_count": 63
  },
  {
   "metadata": {
    "ExecuteTime": {
     "end_time": "2025-03-16T07:15:37.487397Z",
     "start_time": "2025-03-16T07:15:37.379523Z"
    }
   },
   "cell_type": "code",
   "source": [
    "plt.hist(values_a['Glucose_After'], bins = 10)\n",
    "plt.show()"
   ],
   "id": "6df4fad4c871a5c0",
   "outputs": [
    {
     "data": {
      "text/plain": [
       "<Figure size 640x480 with 1 Axes>"
      ],
      "image/png": "[encoded data removed]"
     },
     "metadata": {},
     "output_type": "display_data"
    }
   ],
   "execution_count": 64
  },
  {
   "metadata": {
    "ExecuteTime": {
     "end_time": "2025-03-16T07:15:39.302371Z",
     "start_time": "2025-03-16T07:15:39.164005Z"
    }
   },
   "cell_type": "code",
   "source": [
    "plt.hist(values_b['Glucose_After'], bins = 10)\n",
    "plt.show()"
   ],
   "id": "ec28b0e4550d0850",
   "outputs": [
    {
     "data": {
      "text/plain": [
       "<Figure size 640x480 with 1 Axes>"
      ],
      "image/png": "[encoded data removed]"
     },
     "metadata": {},
     "output_type": "display_data"
    }
   ],
   "execution_count": 65
  },
  {
   "metadata": {
    "ExecuteTime": {
     "end_time": "2025-03-16T06:23:36.169135Z",
     "start_time": "2025-03-16T06:23:36.160328Z"
    }
   },
   "cell_type": "code",
   "source": [
    "shapiro_a = sts.shapiro(values_a['Glucose_After'])\n",
    "shapiro_b = sts.shapiro(values_b['Glucose_After'])\n",
    "print(f'{shapiro_a}, \\n{shapiro_b}')"
   ],
   "id": "c7fa4f8701796864",
   "outputs": [
    {
     "name": "stdout",
     "output_type": "stream",
     "text": [
      "ShapiroResult(statistic=np.float64(0.9657716447255266), pvalue=np.float64(0.6642805235682276)), \n",
      "ShapiroResult(statistic=np.float64(0.9696339898594359), pvalue=np.float64(0.7471250188629206))\n"
     ]
    }
   ],
   "execution_count": 53
  },
  {
   "metadata": {},
   "cell_type": "markdown",
   "source": "В обоих случаях p > 0.05 принимаю Н0, данные уровня глюкозы после лечения распределены нормально в обеих группах. ",
   "id": "4d80a2a7c5b4c681"
  },
  {
   "metadata": {},
   "cell_type": "markdown",
   "source": [
    "Для сравнения уровня глюкозы между группами после лечения использую t-критерий для независимых выборок, т.к. распределение нормальное и выборки независимые.\n",
    "#### __Нулевая гипотеза для сравнения уровня глюкозы между группами А и В после лечения:__\n",
    "Средний уровень глюкозы в группе A не отличается от среднего уровня глюкозы в группе B."
   ],
   "id": "873e7b4d63849ddb"
  },
  {
   "metadata": {},
   "cell_type": "markdown",
   "source": [
    "Для оценки изменения уровня инсулина в группе А после лечения использую t-критерий для парных выборок.\n",
    "#### __Нулевая гипотеза для проверки среднего уровня глюкозы в группе А поле лечения:__\n",
    "Средний уровень глюкозы в группе A не изменился после лечения.\n"
   ],
   "id": "94828f038522196a"
  },
  {
   "metadata": {},
   "cell_type": "markdown",
   "source": [
    "Для оценки корреляции между изменениями уровня инсулина и инсулина в группе А использую коэффициент корреляции Пирсона.\n",
    "#### __Нулевая гипотеза для проверки наличия связи между изменением уровня глюкозы и изменением уровня инсулина в группе A:__\n",
    "Между изменением уровня глюкозы и изменением уровня инсулина в группе A нет связи.\n"
   ],
   "id": "e333486a2cecc514"
  },
  {
   "metadata": {},
   "cell_type": "markdown",
   "source": "Для оценки разницы в уровне глюкозы до лечения между группами A и B использую t-критерий для двух независимых выборок.",
   "id": "685ab303421a965"
  },
  {
   "metadata": {},
   "cell_type": "markdown",
   "source": "Для оценки изменения уровня глюкозы в группе B после лечения использую t-критерий для парных выборок ",
   "id": "f6dae4b7b1d31466"
  },
  {
   "metadata": {},
   "cell_type": "markdown",
   "source": "Для оценки связи между изменением уровня глюкозы и изменением уровня инсулина в группе B использую коэффициент корреляции Пирсона",
   "id": "e0fd93843022a450"
  },
  {
   "metadata": {
    "ExecuteTime": {
     "end_time": "2025-03-16T06:49:50.832775Z",
     "start_time": "2025-03-16T06:49:50.822754Z"
    }
   },
   "cell_type": "code",
   "source": "round(values_a['Glucose_Before'].mean(),2)",
   "id": "c0b3165c67f66dfd",
   "outputs": [
    {
     "data": {
      "text/plain": [
       "np.float64(9.67)"
      ]
     },
     "execution_count": 60,
     "metadata": {},
     "output_type": "execute_result"
    }
   ],
   "execution_count": 60
  },
  {
   "metadata": {
    "ExecuteTime": {
     "end_time": "2025-03-16T06:49:48.348295Z",
     "start_time": "2025-03-16T06:49:48.338533Z"
    }
   },
   "cell_type": "code",
   "source": "round(values_a['Glucose_After'].mean(), 2)",
   "id": "e05e11b01f7796e8",
   "outputs": [
    {
     "data": {
      "text/plain": [
       "np.float64(7.81)"
      ]
     },
     "execution_count": 59,
     "metadata": {},
     "output_type": "execute_result"
    }
   ],
   "execution_count": 59
  },
  {
   "metadata": {
    "ExecuteTime": {
     "end_time": "2025-03-16T06:50:30.279Z",
     "start_time": "2025-03-16T06:50:30.270040Z"
    }
   },
   "cell_type": "code",
   "source": "round(values_a['Insulin_Before'].mean(),2)",
   "id": "9287e1e2d797b1dc",
   "outputs": [
    {
     "data": {
      "text/plain": [
       "np.float64(8.89)"
      ]
     },
     "execution_count": 61,
     "metadata": {},
     "output_type": "execute_result"
    }
   ],
   "execution_count": 61
  },
  {
   "metadata": {
    "ExecuteTime": {
     "end_time": "2025-03-16T06:50:31.947025Z",
     "start_time": "2025-03-16T06:50:31.937013Z"
    }
   },
   "cell_type": "code",
   "source": "round(values_a['Insulin_After'].mean(), 2)",
   "id": "86d63d6a1d3089a5",
   "outputs": [
    {
     "data": {
      "text/plain": [
       "np.float64(11.68)"
      ]
     },
     "execution_count": 62,
     "metadata": {},
     "output_type": "execute_result"
    }
   ],
   "execution_count": 62
  },
  {
   "metadata": {},
   "cell_type": "markdown",
   "source": [
    "Для проверки гипотезы о равенстве дисперсий уровня глюкозы между группами A и B после лечения использую критерий Левина\n",
    "\n",
    "#### __Нулевая гипотеза для проверка равенства дисперсий уровня глюкозы между группами A и B после лечения:__\n",
    "Дисперсии уровня глюкозы в группах A и B равны.\n"
   ],
   "id": "db92469461ba1f6a"
  },
  {
   "metadata": {
    "ExecuteTime": {
     "end_time": "2025-03-16T07:17:14.179837Z",
     "start_time": "2025-03-16T07:17:14.167251Z"
    }
   },
   "cell_type": "code",
   "source": [
    "a = values_a['Glucose_After']\n",
    "b = values_b['Glucose_After']\n",
    "sts.levene(a, b)"
   ],
   "id": "f3c08f2bf9bf7ed5",
   "outputs": [
    {
     "data": {
      "text/plain": [
       "LeveneResult(statistic=np.float64(2.3525317176907605), pvalue=np.float64(0.1333643020093815))"
      ]
     },
     "execution_count": 73,
     "metadata": {},
     "output_type": "execute_result"
    }
   ],
   "execution_count": 73
  }
 ],
 "metadata": {
  "kernelspec": {
   "display_name": "Python 3",
   "language": "python",
   "name": "python3"
  },
  "language_info": {
   "codemirror_mode": {
    "name": "ipython",
    "version": 2
   },
   "file_extension": ".py",
   "mimetype": "text/x-python",
   "name": "python",
   "nbconvert_exporter": "python",
   "pygments_lexer": "ipython2",
   "version": "2.7.6"
  }
 },
 "nbformat": 4,
 "nbformat_minor": 5
}
